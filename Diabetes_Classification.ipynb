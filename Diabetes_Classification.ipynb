{
 "cells": [
  {
   "cell_type": "markdown",
   "metadata": {},
   "source": [
    "# Diabetes Classification for Local Health Department"
   ]
  },
  {
   "cell_type": "markdown",
   "metadata": {},
   "source": [
    "<img src=\"images/diabetes.jpeg\" alt=\"Drawing\" style=\"width: 1000px;height:300px;float: left;\"/>"
   ]
  },
  {
   "cell_type": "markdown",
   "metadata": {},
   "source": [
    "## Overview\n",
    "This project uses machine learning classification algorithms to predict whether a person has diabetes, as well as determine what are some of the most important features related to diabetes. A XGBoost model built using CDC survey data from 2015 predicts whether a person has diabetes with a 76% accuracy and 80% recall. The model determined general health, blood pressure, and BMI to be the most important features in predicting diabetes. This information can be used to inform guidance for future public health efforts."
   ]
  },
  {
   "cell_type": "markdown",
   "metadata": {},
   "source": [
    "## Business Understanding\n",
    "The local health department wants to address the prevalence of diabetes in their community. A classification model for diabetes can predict which people are at risk as well as identify key risk factors that can be addressed with targeted health interventions."
   ]
  },
  {
   "cell_type": "markdown",
   "metadata": {},
   "source": [
    "## Data Understanding\n",
    "This project uses 2015 survey data from the CDC's Behavioral Risk Factor Surveillance System. The dataset contains information about the health and lifestyle of 72,692 people. The target variable in this dataset is a binary with values of 1 meaning a person is pre-diabetic or diabetic and 0 meaning they are not pre-diabetic or diabetic."
   ]
  },
  {
   "cell_type": "code",
   "execution_count": 62,
   "metadata": {},
   "outputs": [],
   "source": [
    "#import all necessary libraries\n",
    "import pandas as pd\n",
    "import numpy as np\n",
    "import matplotlib.pyplot as plt\n",
    "from sklearn.model_selection import train_test_split, GridSearchCV, StratifiedKFold\n",
    "from sklearn.metrics import classification_report\n",
    "from sklearn.linear_model import LogisticRegression\n",
    "from sklearn.neighbors import KNeighborsClassifier\n",
    "from imblearn.over_sampling import SMOTE\n",
    "from sklearn.preprocessing import StandardScaler, OneHotEncoder\n",
    "from sklearn.model_selection import cross_val_score\n",
    "from sklearn.model_selection import cross_validate\n",
    "from sklearn.ensemble import RandomForestClassifier\n",
    "from xgboost import XGBClassifier\n",
    "from xgboost import plot_importance\n",
    "from sklearn.feature_selection import VarianceThreshold\n",
    "from sklearn.feature_selection import mutual_info_classif, SelectKBest\n",
    "from sklearn.feature_selection import RFE, RFECV\n",
    "import shap\n",
    "from sklearn.metrics import accuracy_score, recall_score\n",
    "from imblearn.pipeline import Pipeline as imbpipeline\n",
    "from sklearn.pipeline import Pipeline\n",
    "import matplotlib.ticker as mtick"
   ]
  },
  {
   "cell_type": "code",
   "execution_count": 63,
   "metadata": {},
   "outputs": [
    {
     "data": {
      "text/html": [
       "<div>\n",
       "<style scoped>\n",
       "    .dataframe tbody tr th:only-of-type {\n",
       "        vertical-align: middle;\n",
       "    }\n",
       "\n",
       "    .dataframe tbody tr th {\n",
       "        vertical-align: top;\n",
       "    }\n",
       "\n",
       "    .dataframe thead th {\n",
       "        text-align: right;\n",
       "    }\n",
       "</style>\n",
       "<table border=\"1\" class=\"dataframe\">\n",
       "  <thead>\n",
       "    <tr style=\"text-align: right;\">\n",
       "      <th></th>\n",
       "      <th>Diabetes_binary</th>\n",
       "      <th>HighBP</th>\n",
       "      <th>HighChol</th>\n",
       "      <th>CholCheck</th>\n",
       "      <th>BMI</th>\n",
       "      <th>Smoker</th>\n",
       "      <th>Stroke</th>\n",
       "      <th>HeartDiseaseorAttack</th>\n",
       "      <th>PhysActivity</th>\n",
       "      <th>Fruits</th>\n",
       "      <th>...</th>\n",
       "      <th>AnyHealthcare</th>\n",
       "      <th>NoDocbcCost</th>\n",
       "      <th>GenHlth</th>\n",
       "      <th>MentHlth</th>\n",
       "      <th>PhysHlth</th>\n",
       "      <th>DiffWalk</th>\n",
       "      <th>Sex</th>\n",
       "      <th>Age</th>\n",
       "      <th>Education</th>\n",
       "      <th>Income</th>\n",
       "    </tr>\n",
       "  </thead>\n",
       "  <tbody>\n",
       "    <tr>\n",
       "      <th>0</th>\n",
       "      <td>0.0</td>\n",
       "      <td>1.0</td>\n",
       "      <td>0.0</td>\n",
       "      <td>1.0</td>\n",
       "      <td>26.0</td>\n",
       "      <td>0.0</td>\n",
       "      <td>0.0</td>\n",
       "      <td>0.0</td>\n",
       "      <td>1.0</td>\n",
       "      <td>0.0</td>\n",
       "      <td>...</td>\n",
       "      <td>1.0</td>\n",
       "      <td>0.0</td>\n",
       "      <td>3.0</td>\n",
       "      <td>5.0</td>\n",
       "      <td>30.0</td>\n",
       "      <td>0.0</td>\n",
       "      <td>1.0</td>\n",
       "      <td>4.0</td>\n",
       "      <td>6.0</td>\n",
       "      <td>8.0</td>\n",
       "    </tr>\n",
       "    <tr>\n",
       "      <th>1</th>\n",
       "      <td>0.0</td>\n",
       "      <td>1.0</td>\n",
       "      <td>1.0</td>\n",
       "      <td>1.0</td>\n",
       "      <td>26.0</td>\n",
       "      <td>1.0</td>\n",
       "      <td>1.0</td>\n",
       "      <td>0.0</td>\n",
       "      <td>0.0</td>\n",
       "      <td>1.0</td>\n",
       "      <td>...</td>\n",
       "      <td>1.0</td>\n",
       "      <td>0.0</td>\n",
       "      <td>3.0</td>\n",
       "      <td>0.0</td>\n",
       "      <td>0.0</td>\n",
       "      <td>0.0</td>\n",
       "      <td>1.0</td>\n",
       "      <td>12.0</td>\n",
       "      <td>6.0</td>\n",
       "      <td>8.0</td>\n",
       "    </tr>\n",
       "    <tr>\n",
       "      <th>2</th>\n",
       "      <td>0.0</td>\n",
       "      <td>0.0</td>\n",
       "      <td>0.0</td>\n",
       "      <td>1.0</td>\n",
       "      <td>26.0</td>\n",
       "      <td>0.0</td>\n",
       "      <td>0.0</td>\n",
       "      <td>0.0</td>\n",
       "      <td>1.0</td>\n",
       "      <td>1.0</td>\n",
       "      <td>...</td>\n",
       "      <td>1.0</td>\n",
       "      <td>0.0</td>\n",
       "      <td>1.0</td>\n",
       "      <td>0.0</td>\n",
       "      <td>10.0</td>\n",
       "      <td>0.0</td>\n",
       "      <td>1.0</td>\n",
       "      <td>13.0</td>\n",
       "      <td>6.0</td>\n",
       "      <td>8.0</td>\n",
       "    </tr>\n",
       "    <tr>\n",
       "      <th>3</th>\n",
       "      <td>0.0</td>\n",
       "      <td>1.0</td>\n",
       "      <td>1.0</td>\n",
       "      <td>1.0</td>\n",
       "      <td>28.0</td>\n",
       "      <td>1.0</td>\n",
       "      <td>0.0</td>\n",
       "      <td>0.0</td>\n",
       "      <td>1.0</td>\n",
       "      <td>1.0</td>\n",
       "      <td>...</td>\n",
       "      <td>1.0</td>\n",
       "      <td>0.0</td>\n",
       "      <td>3.0</td>\n",
       "      <td>0.0</td>\n",
       "      <td>3.0</td>\n",
       "      <td>0.0</td>\n",
       "      <td>1.0</td>\n",
       "      <td>11.0</td>\n",
       "      <td>6.0</td>\n",
       "      <td>8.0</td>\n",
       "    </tr>\n",
       "    <tr>\n",
       "      <th>4</th>\n",
       "      <td>0.0</td>\n",
       "      <td>0.0</td>\n",
       "      <td>0.0</td>\n",
       "      <td>1.0</td>\n",
       "      <td>29.0</td>\n",
       "      <td>1.0</td>\n",
       "      <td>0.0</td>\n",
       "      <td>0.0</td>\n",
       "      <td>1.0</td>\n",
       "      <td>1.0</td>\n",
       "      <td>...</td>\n",
       "      <td>1.0</td>\n",
       "      <td>0.0</td>\n",
       "      <td>2.0</td>\n",
       "      <td>0.0</td>\n",
       "      <td>0.0</td>\n",
       "      <td>0.0</td>\n",
       "      <td>0.0</td>\n",
       "      <td>8.0</td>\n",
       "      <td>5.0</td>\n",
       "      <td>8.0</td>\n",
       "    </tr>\n",
       "  </tbody>\n",
       "</table>\n",
       "<p>5 rows × 22 columns</p>\n",
       "</div>"
      ],
      "text/plain": [
       "   Diabetes_binary  HighBP  HighChol  CholCheck   BMI  Smoker  Stroke  \\\n",
       "0              0.0     1.0       0.0        1.0  26.0     0.0     0.0   \n",
       "1              0.0     1.0       1.0        1.0  26.0     1.0     1.0   \n",
       "2              0.0     0.0       0.0        1.0  26.0     0.0     0.0   \n",
       "3              0.0     1.0       1.0        1.0  28.0     1.0     0.0   \n",
       "4              0.0     0.0       0.0        1.0  29.0     1.0     0.0   \n",
       "\n",
       "   HeartDiseaseorAttack  PhysActivity  Fruits  ...  AnyHealthcare  \\\n",
       "0                   0.0           1.0     0.0  ...            1.0   \n",
       "1                   0.0           0.0     1.0  ...            1.0   \n",
       "2                   0.0           1.0     1.0  ...            1.0   \n",
       "3                   0.0           1.0     1.0  ...            1.0   \n",
       "4                   0.0           1.0     1.0  ...            1.0   \n",
       "\n",
       "   NoDocbcCost  GenHlth  MentHlth  PhysHlth  DiffWalk  Sex   Age  Education  \\\n",
       "0          0.0      3.0       5.0      30.0       0.0  1.0   4.0        6.0   \n",
       "1          0.0      3.0       0.0       0.0       0.0  1.0  12.0        6.0   \n",
       "2          0.0      1.0       0.0      10.0       0.0  1.0  13.0        6.0   \n",
       "3          0.0      3.0       0.0       3.0       0.0  1.0  11.0        6.0   \n",
       "4          0.0      2.0       0.0       0.0       0.0  0.0   8.0        5.0   \n",
       "\n",
       "   Income  \n",
       "0     8.0  \n",
       "1     8.0  \n",
       "2     8.0  \n",
       "3     8.0  \n",
       "4     8.0  \n",
       "\n",
       "[5 rows x 22 columns]"
      ]
     },
     "execution_count": 63,
     "metadata": {},
     "output_type": "execute_result"
    }
   ],
   "source": [
    "#import dataset and preview\n",
    "df = pd.read_csv('data/diabetes_binary_5050split_health_indicators_BRFSS2015.csv')\n",
    "df.head()"
   ]
  },
  {
   "cell_type": "code",
   "execution_count": 64,
   "metadata": {
    "scrolled": true
   },
   "outputs": [
    {
     "name": "stdout",
     "output_type": "stream",
     "text": [
      "<class 'pandas.core.frame.DataFrame'>\n",
      "RangeIndex: 70692 entries, 0 to 70691\n",
      "Data columns (total 22 columns):\n",
      " #   Column                Non-Null Count  Dtype  \n",
      "---  ------                --------------  -----  \n",
      " 0   Diabetes_binary       70692 non-null  float64\n",
      " 1   HighBP                70692 non-null  float64\n",
      " 2   HighChol              70692 non-null  float64\n",
      " 3   CholCheck             70692 non-null  float64\n",
      " 4   BMI                   70692 non-null  float64\n",
      " 5   Smoker                70692 non-null  float64\n",
      " 6   Stroke                70692 non-null  float64\n",
      " 7   HeartDiseaseorAttack  70692 non-null  float64\n",
      " 8   PhysActivity          70692 non-null  float64\n",
      " 9   Fruits                70692 non-null  float64\n",
      " 10  Veggies               70692 non-null  float64\n",
      " 11  HvyAlcoholConsump     70692 non-null  float64\n",
      " 12  AnyHealthcare         70692 non-null  float64\n",
      " 13  NoDocbcCost           70692 non-null  float64\n",
      " 14  GenHlth               70692 non-null  float64\n",
      " 15  MentHlth              70692 non-null  float64\n",
      " 16  PhysHlth              70692 non-null  float64\n",
      " 17  DiffWalk              70692 non-null  float64\n",
      " 18  Sex                   70692 non-null  float64\n",
      " 19  Age                   70692 non-null  float64\n",
      " 20  Education             70692 non-null  float64\n",
      " 21  Income                70692 non-null  float64\n",
      "dtypes: float64(22)\n",
      "memory usage: 11.9 MB\n"
     ]
    }
   ],
   "source": [
    "df.info()"
   ]
  },
  {
   "cell_type": "code",
   "execution_count": 65,
   "metadata": {
    "scrolled": true
   },
   "outputs": [
    {
     "data": {
      "text/html": [
       "<div>\n",
       "<style scoped>\n",
       "    .dataframe tbody tr th:only-of-type {\n",
       "        vertical-align: middle;\n",
       "    }\n",
       "\n",
       "    .dataframe tbody tr th {\n",
       "        vertical-align: top;\n",
       "    }\n",
       "\n",
       "    .dataframe thead th {\n",
       "        text-align: right;\n",
       "    }\n",
       "</style>\n",
       "<table border=\"1\" class=\"dataframe\">\n",
       "  <thead>\n",
       "    <tr style=\"text-align: right;\">\n",
       "      <th></th>\n",
       "      <th>Diabetes_binary</th>\n",
       "      <th>HighBP</th>\n",
       "      <th>HighChol</th>\n",
       "      <th>CholCheck</th>\n",
       "      <th>BMI</th>\n",
       "      <th>Smoker</th>\n",
       "      <th>Stroke</th>\n",
       "      <th>HeartDiseaseorAttack</th>\n",
       "      <th>PhysActivity</th>\n",
       "      <th>Fruits</th>\n",
       "      <th>...</th>\n",
       "      <th>AnyHealthcare</th>\n",
       "      <th>NoDocbcCost</th>\n",
       "      <th>GenHlth</th>\n",
       "      <th>MentHlth</th>\n",
       "      <th>PhysHlth</th>\n",
       "      <th>DiffWalk</th>\n",
       "      <th>Sex</th>\n",
       "      <th>Age</th>\n",
       "      <th>Education</th>\n",
       "      <th>Income</th>\n",
       "    </tr>\n",
       "  </thead>\n",
       "  <tbody>\n",
       "    <tr>\n",
       "      <th>count</th>\n",
       "      <td>70692.000000</td>\n",
       "      <td>70692.000000</td>\n",
       "      <td>70692.000000</td>\n",
       "      <td>70692.000000</td>\n",
       "      <td>70692.000000</td>\n",
       "      <td>70692.000000</td>\n",
       "      <td>70692.000000</td>\n",
       "      <td>70692.000000</td>\n",
       "      <td>70692.000000</td>\n",
       "      <td>70692.000000</td>\n",
       "      <td>...</td>\n",
       "      <td>70692.000000</td>\n",
       "      <td>70692.000000</td>\n",
       "      <td>70692.000000</td>\n",
       "      <td>70692.000000</td>\n",
       "      <td>70692.000000</td>\n",
       "      <td>70692.000000</td>\n",
       "      <td>70692.000000</td>\n",
       "      <td>70692.000000</td>\n",
       "      <td>70692.000000</td>\n",
       "      <td>70692.000000</td>\n",
       "    </tr>\n",
       "    <tr>\n",
       "      <th>mean</th>\n",
       "      <td>0.500000</td>\n",
       "      <td>0.563458</td>\n",
       "      <td>0.525703</td>\n",
       "      <td>0.975259</td>\n",
       "      <td>29.856985</td>\n",
       "      <td>0.475273</td>\n",
       "      <td>0.062171</td>\n",
       "      <td>0.147810</td>\n",
       "      <td>0.703036</td>\n",
       "      <td>0.611795</td>\n",
       "      <td>...</td>\n",
       "      <td>0.954960</td>\n",
       "      <td>0.093914</td>\n",
       "      <td>2.837082</td>\n",
       "      <td>3.752037</td>\n",
       "      <td>5.810417</td>\n",
       "      <td>0.252730</td>\n",
       "      <td>0.456997</td>\n",
       "      <td>8.584055</td>\n",
       "      <td>4.920953</td>\n",
       "      <td>5.698311</td>\n",
       "    </tr>\n",
       "    <tr>\n",
       "      <th>std</th>\n",
       "      <td>0.500004</td>\n",
       "      <td>0.495960</td>\n",
       "      <td>0.499342</td>\n",
       "      <td>0.155336</td>\n",
       "      <td>7.113954</td>\n",
       "      <td>0.499392</td>\n",
       "      <td>0.241468</td>\n",
       "      <td>0.354914</td>\n",
       "      <td>0.456924</td>\n",
       "      <td>0.487345</td>\n",
       "      <td>...</td>\n",
       "      <td>0.207394</td>\n",
       "      <td>0.291712</td>\n",
       "      <td>1.113565</td>\n",
       "      <td>8.155627</td>\n",
       "      <td>10.062261</td>\n",
       "      <td>0.434581</td>\n",
       "      <td>0.498151</td>\n",
       "      <td>2.852153</td>\n",
       "      <td>1.029081</td>\n",
       "      <td>2.175196</td>\n",
       "    </tr>\n",
       "    <tr>\n",
       "      <th>min</th>\n",
       "      <td>0.000000</td>\n",
       "      <td>0.000000</td>\n",
       "      <td>0.000000</td>\n",
       "      <td>0.000000</td>\n",
       "      <td>12.000000</td>\n",
       "      <td>0.000000</td>\n",
       "      <td>0.000000</td>\n",
       "      <td>0.000000</td>\n",
       "      <td>0.000000</td>\n",
       "      <td>0.000000</td>\n",
       "      <td>...</td>\n",
       "      <td>0.000000</td>\n",
       "      <td>0.000000</td>\n",
       "      <td>1.000000</td>\n",
       "      <td>0.000000</td>\n",
       "      <td>0.000000</td>\n",
       "      <td>0.000000</td>\n",
       "      <td>0.000000</td>\n",
       "      <td>1.000000</td>\n",
       "      <td>1.000000</td>\n",
       "      <td>1.000000</td>\n",
       "    </tr>\n",
       "    <tr>\n",
       "      <th>25%</th>\n",
       "      <td>0.000000</td>\n",
       "      <td>0.000000</td>\n",
       "      <td>0.000000</td>\n",
       "      <td>1.000000</td>\n",
       "      <td>25.000000</td>\n",
       "      <td>0.000000</td>\n",
       "      <td>0.000000</td>\n",
       "      <td>0.000000</td>\n",
       "      <td>0.000000</td>\n",
       "      <td>0.000000</td>\n",
       "      <td>...</td>\n",
       "      <td>1.000000</td>\n",
       "      <td>0.000000</td>\n",
       "      <td>2.000000</td>\n",
       "      <td>0.000000</td>\n",
       "      <td>0.000000</td>\n",
       "      <td>0.000000</td>\n",
       "      <td>0.000000</td>\n",
       "      <td>7.000000</td>\n",
       "      <td>4.000000</td>\n",
       "      <td>4.000000</td>\n",
       "    </tr>\n",
       "    <tr>\n",
       "      <th>50%</th>\n",
       "      <td>0.500000</td>\n",
       "      <td>1.000000</td>\n",
       "      <td>1.000000</td>\n",
       "      <td>1.000000</td>\n",
       "      <td>29.000000</td>\n",
       "      <td>0.000000</td>\n",
       "      <td>0.000000</td>\n",
       "      <td>0.000000</td>\n",
       "      <td>1.000000</td>\n",
       "      <td>1.000000</td>\n",
       "      <td>...</td>\n",
       "      <td>1.000000</td>\n",
       "      <td>0.000000</td>\n",
       "      <td>3.000000</td>\n",
       "      <td>0.000000</td>\n",
       "      <td>0.000000</td>\n",
       "      <td>0.000000</td>\n",
       "      <td>0.000000</td>\n",
       "      <td>9.000000</td>\n",
       "      <td>5.000000</td>\n",
       "      <td>6.000000</td>\n",
       "    </tr>\n",
       "    <tr>\n",
       "      <th>75%</th>\n",
       "      <td>1.000000</td>\n",
       "      <td>1.000000</td>\n",
       "      <td>1.000000</td>\n",
       "      <td>1.000000</td>\n",
       "      <td>33.000000</td>\n",
       "      <td>1.000000</td>\n",
       "      <td>0.000000</td>\n",
       "      <td>0.000000</td>\n",
       "      <td>1.000000</td>\n",
       "      <td>1.000000</td>\n",
       "      <td>...</td>\n",
       "      <td>1.000000</td>\n",
       "      <td>0.000000</td>\n",
       "      <td>4.000000</td>\n",
       "      <td>2.000000</td>\n",
       "      <td>6.000000</td>\n",
       "      <td>1.000000</td>\n",
       "      <td>1.000000</td>\n",
       "      <td>11.000000</td>\n",
       "      <td>6.000000</td>\n",
       "      <td>8.000000</td>\n",
       "    </tr>\n",
       "    <tr>\n",
       "      <th>max</th>\n",
       "      <td>1.000000</td>\n",
       "      <td>1.000000</td>\n",
       "      <td>1.000000</td>\n",
       "      <td>1.000000</td>\n",
       "      <td>98.000000</td>\n",
       "      <td>1.000000</td>\n",
       "      <td>1.000000</td>\n",
       "      <td>1.000000</td>\n",
       "      <td>1.000000</td>\n",
       "      <td>1.000000</td>\n",
       "      <td>...</td>\n",
       "      <td>1.000000</td>\n",
       "      <td>1.000000</td>\n",
       "      <td>5.000000</td>\n",
       "      <td>30.000000</td>\n",
       "      <td>30.000000</td>\n",
       "      <td>1.000000</td>\n",
       "      <td>1.000000</td>\n",
       "      <td>13.000000</td>\n",
       "      <td>6.000000</td>\n",
       "      <td>8.000000</td>\n",
       "    </tr>\n",
       "  </tbody>\n",
       "</table>\n",
       "<p>8 rows × 22 columns</p>\n",
       "</div>"
      ],
      "text/plain": [
       "       Diabetes_binary        HighBP      HighChol     CholCheck  \\\n",
       "count     70692.000000  70692.000000  70692.000000  70692.000000   \n",
       "mean          0.500000      0.563458      0.525703      0.975259   \n",
       "std           0.500004      0.495960      0.499342      0.155336   \n",
       "min           0.000000      0.000000      0.000000      0.000000   \n",
       "25%           0.000000      0.000000      0.000000      1.000000   \n",
       "50%           0.500000      1.000000      1.000000      1.000000   \n",
       "75%           1.000000      1.000000      1.000000      1.000000   \n",
       "max           1.000000      1.000000      1.000000      1.000000   \n",
       "\n",
       "                BMI        Smoker        Stroke  HeartDiseaseorAttack  \\\n",
       "count  70692.000000  70692.000000  70692.000000          70692.000000   \n",
       "mean      29.856985      0.475273      0.062171              0.147810   \n",
       "std        7.113954      0.499392      0.241468              0.354914   \n",
       "min       12.000000      0.000000      0.000000              0.000000   \n",
       "25%       25.000000      0.000000      0.000000              0.000000   \n",
       "50%       29.000000      0.000000      0.000000              0.000000   \n",
       "75%       33.000000      1.000000      0.000000              0.000000   \n",
       "max       98.000000      1.000000      1.000000              1.000000   \n",
       "\n",
       "       PhysActivity        Fruits  ...  AnyHealthcare   NoDocbcCost  \\\n",
       "count  70692.000000  70692.000000  ...   70692.000000  70692.000000   \n",
       "mean       0.703036      0.611795  ...       0.954960      0.093914   \n",
       "std        0.456924      0.487345  ...       0.207394      0.291712   \n",
       "min        0.000000      0.000000  ...       0.000000      0.000000   \n",
       "25%        0.000000      0.000000  ...       1.000000      0.000000   \n",
       "50%        1.000000      1.000000  ...       1.000000      0.000000   \n",
       "75%        1.000000      1.000000  ...       1.000000      0.000000   \n",
       "max        1.000000      1.000000  ...       1.000000      1.000000   \n",
       "\n",
       "            GenHlth      MentHlth      PhysHlth      DiffWalk           Sex  \\\n",
       "count  70692.000000  70692.000000  70692.000000  70692.000000  70692.000000   \n",
       "mean       2.837082      3.752037      5.810417      0.252730      0.456997   \n",
       "std        1.113565      8.155627     10.062261      0.434581      0.498151   \n",
       "min        1.000000      0.000000      0.000000      0.000000      0.000000   \n",
       "25%        2.000000      0.000000      0.000000      0.000000      0.000000   \n",
       "50%        3.000000      0.000000      0.000000      0.000000      0.000000   \n",
       "75%        4.000000      2.000000      6.000000      1.000000      1.000000   \n",
       "max        5.000000     30.000000     30.000000      1.000000      1.000000   \n",
       "\n",
       "                Age     Education        Income  \n",
       "count  70692.000000  70692.000000  70692.000000  \n",
       "mean       8.584055      4.920953      5.698311  \n",
       "std        2.852153      1.029081      2.175196  \n",
       "min        1.000000      1.000000      1.000000  \n",
       "25%        7.000000      4.000000      4.000000  \n",
       "50%        9.000000      5.000000      6.000000  \n",
       "75%       11.000000      6.000000      8.000000  \n",
       "max       13.000000      6.000000      8.000000  \n",
       "\n",
       "[8 rows x 22 columns]"
      ]
     },
     "execution_count": 65,
     "metadata": {},
     "output_type": "execute_result"
    }
   ],
   "source": [
    "df.describe()"
   ]
  },
  {
   "cell_type": "code",
   "execution_count": 66,
   "metadata": {
    "scrolled": false
   },
   "outputs": [
    {
     "data": {
      "image/png": "[encoded data removed]",
      "text/plain": [
       "<Figure size 432x360 with 1 Axes>"
      ]
     },
     "metadata": {
      "needs_background": "light"
     },
     "output_type": "display_data"
    }
   ],
   "source": [
    "#class imbalance\n",
    "fig, ax = plt.subplots(figsize=(6, 5))\n",
    "df.Diabetes_binary.value_counts().plot.bar(ax=ax);\n",
    "ax.set_title('Diabetes Target Variable Distribution', fontsize=18);\n",
    "ax.set_ylabel('# of People', fontsize=15);\n",
    "ax.set_xticklabels(['Non-Diabetic', 'Pre-Diabetic/Diabetic'], rotation=0);"
   ]
  },
  {
   "cell_type": "markdown",
   "metadata": {},
   "source": [
    "## Data Preparation\n",
    "Data splitting, one-hot encoding, and standardizing"
   ]
  },
  {
   "cell_type": "code",
   "execution_count": 111,
   "metadata": {},
   "outputs": [],
   "source": [
    "#Split the data into target(y) and predictor(X) variables\n",
    "y = df['Diabetes_binary']\n",
    "X = df.drop('Diabetes_binary', axis=1)\n",
    "\n",
    "#split data into training and test set\n",
    "X_train, X_test, y_train, y_test = train_test_split(X, y, stratify=y)"
   ]
  },
  {
   "cell_type": "markdown",
   "metadata": {},
   "source": [
    "Despite all the data being in numeric form, several features are actually categorical variables that need to be converted into dummy variables before modeling."
   ]
  },
  {
   "cell_type": "code",
   "execution_count": 112,
   "metadata": {},
   "outputs": [],
   "source": [
    "#convert categorical variables into dummy variables uing one-hot encoder\n",
    "categoricals = ['Education', 'Income']\n",
    "ohe = OneHotEncoder()\n",
    "ohe.fit(X_train[categoricals])\n",
    "ohe_train_df = pd.DataFrame(ohe.transform(X_train[categoricals]).toarray(),\n",
    "                            index=X_train.index,\n",
    "                            columns=ohe.get_feature_names())\n",
    "ohe_test_df = pd.DataFrame(ohe.transform(X_test[categoricals]).toarray(),\n",
    "                           index=X_test.index,\n",
    "                            columns=ohe.get_feature_names())"
   ]
  },
  {
   "cell_type": "code",
   "execution_count": 113,
   "metadata": {
    "scrolled": false
   },
   "outputs": [
    {
     "name": "stderr",
     "output_type": "stream",
     "text": [
      "\n",
      "A value is trying to be set on a copy of a slice from a DataFrame\n",
      "\n",
      "See the caveats in the documentation: https://pandas.pydata.org/pandas-docs/stable/user_guide/indexing.html#returning-a-view-versus-a-copy\n"
     ]
    }
   ],
   "source": [
    "X_train.drop(categoricals, axis=1, inplace=True)\n",
    "X_test.drop(categoricals, axis=1, inplace=True)"
   ]
  },
  {
   "cell_type": "code",
   "execution_count": 114,
   "metadata": {},
   "outputs": [],
   "source": [
    "X_train = pd.concat([X_train, ohe_train_df], axis=1)\n",
    "X_test = pd.concat([X_test, ohe_test_df], axis=1)"
   ]
  },
  {
   "cell_type": "code",
   "execution_count": 115,
   "metadata": {},
   "outputs": [],
   "source": [
    "#scale data using StandardScaler transformer\n",
    "scaler = StandardScaler()\n",
    "scaler.fit(X_train)\n",
    "\n",
    "#convert scaled data back into datframes\n",
    "X_train_scaled = pd.DataFrame(scaler.transform(X_train), \n",
    "                              columns=X_train.columns)\n",
    "X_test_scaled = pd.DataFrame(scaler.transform(X_test), \n",
    "                             columns=X_test.columns)"
   ]
  },
  {
   "cell_type": "markdown",
   "metadata": {},
   "source": [
    "## Classification Modeling\n",
    "To predict the binary diabetes target value, I will use a classification algorithm. I will iterate through multiple algorithms to determine the optimal model based on accuracy and recall."
   ]
  },
  {
   "cell_type": "markdown",
   "metadata": {},
   "source": [
    "### Logitic Regression"
   ]
  },
  {
   "cell_type": "code",
   "execution_count": 98,
   "metadata": {},
   "outputs": [],
   "source": [
    "#funtion that displays model results\n",
    "def average_scores(results):\n",
    "    average_scores = {}\n",
    "    for key, value in results.items():\n",
    "        print(key+':', np.mean(value))"
   ]
  },
  {
   "cell_type": "code",
   "execution_count": 99,
   "metadata": {
    "scrolled": false
   },
   "outputs": [
    {
     "name": "stdout",
     "output_type": "stream",
     "text": [
      "fit_time: 0.05181241035461426\n",
      "score_time: 0.010927152633666993\n",
      "test_accuracy: 0.7477131551382243\n",
      "train_accuracy: 0.7481280343099049\n",
      "test_recall: 0.7747642399094682\n",
      "train_recall: 0.7750754432289702\n"
     ]
    }
   ],
   "source": [
    "#instantiate baseline logistic regression model\n",
    "logreg_baseline = LogisticRegression(fit_intercept=False)\n",
    "\n",
    "#run cross_validation\n",
    "logreg_baseline_results  = cross_validate(logreg_baseline,\n",
    "                                          X_train_scaled, y_train,\n",
    "                                          scoring=('accuracy', 'recall'),\n",
    "                                          return_train_score=True)\n",
    "\n",
    "#print scores\n",
    "average_scores(logreg_baseline_results)"
   ]
  },
  {
   "cell_type": "markdown",
   "metadata": {},
   "source": [
    "#### Hyperparameter Tuning"
   ]
  },
  {
   "cell_type": "code",
   "execution_count": 25,
   "metadata": {},
   "outputs": [
    {
     "name": "stdout",
     "output_type": "stream",
     "text": [
      "Grid Search found the following optimal parameters: \n",
      "C: 0.01\n",
      "max_iter: 10000\n",
      "solver: 'newton-cg'\n"
     ]
    }
   ],
   "source": [
    "#define parameter grid for search\n",
    "logreg_param_grid = {'C':[0.001, 0.01, 0.1, 1, 10, 100, 1000],\n",
    "                    'solver': ['newton-cg', 'lbfgs', 'sag', 'saga'],\n",
    "                    'max_iter': [10000]}\n",
    "\n",
    "#instantiate grid search\n",
    "#refit based on recall\n",
    "logreg_grid = GridSearchCV(estimator=logreg_baseline,\n",
    "                           param_grid=logreg_param_grid,\n",
    "                           scoring=['accuracy', 'recall'],\n",
    "                           refit='recall',\n",
    "                           cv=3,\n",
    "                           n_jobs=1,\n",
    "                           return_train_score=True)\n",
    "\n",
    "#fit to training data\n",
    "logreg_grid.fit(X_train_scaled, y_train)\n",
    "\n",
    "#print the optimal parameters\n",
    "best_parameters = logreg_grid.best_params_\n",
    "print('Grid Search found the following optimal parameters: ')\n",
    "for param_name in sorted(best_parameters.keys()):\n",
    "    print('%s: %r' % (param_name, best_parameters[param_name]))"
   ]
  },
  {
   "cell_type": "code",
   "execution_count": 100,
   "metadata": {
    "scrolled": true
   },
   "outputs": [
    {
     "name": "stdout",
     "output_type": "stream",
     "text": [
      "fit_time: 0.18512430191040039\n",
      "score_time: 0.01093149185180664\n",
      "test_accuracy: 0.7477320159454669\n",
      "train_accuracy: 0.7481091731691578\n",
      "test_recall: 0.774726518294983\n",
      "train_recall: 0.7750282912108639\n"
     ]
    }
   ],
   "source": [
    "#indtantiate tuned logistic regression\n",
    "logreg_tuned = LogisticRegression(C=0.1, solver='newton-cg',\n",
    "                                  max_iter=10000,\n",
    "                                  fit_intercept=False)\n",
    "\n",
    "#run cross_validation\n",
    "logreg_tuned_results  = cross_validate(logreg_tuned,\n",
    "                                       X_train_scaled,\n",
    "                                       y_train,\n",
    "                                       scoring=('accuracy', 'recall'),\n",
    "                                       return_train_score=True)\n",
    "#print scores\n",
    "average_scores(logreg_tuned_results)"
   ]
  },
  {
   "cell_type": "markdown",
   "metadata": {},
   "source": [
    "The hyperparameter tuning made little difference, increasing the recall score by only 0.001."
   ]
  },
  {
   "cell_type": "markdown",
   "metadata": {},
   "source": [
    "### Random Forest"
   ]
  },
  {
   "cell_type": "code",
   "execution_count": 101,
   "metadata": {},
   "outputs": [],
   "source": [
    "#instantiate random forest classifier\n",
    "rf_baseline = RandomForestClassifier()\n",
    "\n",
    "#run cross_validation\n",
    "rf_baseline_results  = cross_validate(rf_baseline,\n",
    "                                      X_train,\n",
    "                                      y_train,\n",
    "                                      scoring=('accuracy', 'recall'),\n",
    "                                      return_train_score=True)"
   ]
  },
  {
   "cell_type": "code",
   "execution_count": 102,
   "metadata": {},
   "outputs": [
    {
     "name": "stdout",
     "output_type": "stream",
     "text": [
      "fit_time: 3.2831770896911623\n",
      "score_time: 0.23150134086608887\n",
      "test_accuracy: 0.7362833120580772\n",
      "train_accuracy: 0.996114600225814\n",
      "test_recall: 0.773934364390796\n",
      "train_recall: 0.99482270841192\n"
     ]
    }
   ],
   "source": [
    "average_scores(rf_baseline_results)"
   ]
  },
  {
   "cell_type": "markdown",
   "metadata": {},
   "source": [
    "While the test accuracy and recall are similar to the logistic regression model, the test metrics differ substantially from the training scores indicating that the current model is overfitting to the training data."
   ]
  },
  {
   "cell_type": "markdown",
   "metadata": {},
   "source": [
    "#### Hyperparameter Tuning"
   ]
  },
  {
   "cell_type": "code",
   "execution_count": 29,
   "metadata": {},
   "outputs": [
    {
     "name": "stdout",
     "output_type": "stream",
     "text": [
      "Grid Search found the following optimal parameters: \n",
      "max_depth: 10\n",
      "max_features: 5\n",
      "min_samples_leaf: 2\n"
     ]
    }
   ],
   "source": [
    "#define parameter grid for search\n",
    "rf_param_grid = {'max_depth': [5, 10, 25, 50, None],\n",
    " 'max_features': ['auto', 5],\n",
    " 'min_samples_leaf': [1, 2, 4]}\n",
    "\n",
    "#insantiate and fit search object\n",
    "grid_rf = GridSearchCV(rf_baseline, \n",
    "                       rf_param_grid,\n",
    "                       scoring=['accuracy', 'recall'],\n",
    "                       cv=3, n_jobs=1,\n",
    "                       refit='recall',\n",
    "                       return_train_score=True)\n",
    "\n",
    "grid_rf.fit(X_train, y_train)\n",
    "\n",
    "#print best parameters\n",
    "best_parameters = grid_rf.best_params_\n",
    "print('Grid Search found the following optimal parameters: ')\n",
    "for param_name in sorted(best_parameters.keys()):\n",
    "    print('%s: %r' % (param_name, best_parameters[param_name]))"
   ]
  },
  {
   "cell_type": "code",
   "execution_count": 103,
   "metadata": {},
   "outputs": [],
   "source": [
    "#instantiate tuned random forest classifier\n",
    "rf_tuned = RandomForestClassifier(max_depth=10,\n",
    "                                  max_features=5,\n",
    "                                  min_samples_leaf=2)\n",
    "\n",
    "#run cross_validation\n",
    "rf_tuned_results  = cross_validate(rf_tuned,\n",
    "                                   X_train,\n",
    "                                   y_train,\n",
    "                                   scoring=('accuracy', 'recall'),\n",
    "                                   return_train_score=True)"
   ]
  },
  {
   "cell_type": "code",
   "execution_count": 104,
   "metadata": {
    "scrolled": true
   },
   "outputs": [
    {
     "name": "stdout",
     "output_type": "stream",
     "text": [
      "fit_time: 1.5849856853485107\n",
      "score_time: 0.12205963134765625\n",
      "test_accuracy: 0.7474490664816507\n",
      "train_accuracy: 0.7711386519238579\n",
      "test_recall: 0.7888721237268956\n",
      "train_recall: 0.8123066767257638\n"
     ]
    }
   ],
   "source": [
    "average_scores(rf_tuned_results)"
   ]
  },
  {
   "cell_type": "markdown",
   "metadata": {},
   "source": [
    "The random forest model with tuned parameters did show an improvement in accuracy and recall as well as a reduction in the over-fitting present in the baseline model."
   ]
  },
  {
   "cell_type": "markdown",
   "metadata": {},
   "source": [
    "### XGBoost"
   ]
  },
  {
   "cell_type": "code",
   "execution_count": 105,
   "metadata": {
    "scrolled": true
   },
   "outputs": [],
   "source": [
    "#instantiate a baseline XGBoost Classifier\n",
    "xgb_baseline = XGBClassifier()\n",
    "\n",
    "#run cross-validation\n",
    "xgb_baseline_results  = cross_validate(xgb_baseline,\n",
    "                                       X_train,\n",
    "                                       y_train,\n",
    "                                       scoring=('accuracy', 'recall'),\n",
    "                                       return_train_score=True)"
   ]
  },
  {
   "cell_type": "code",
   "execution_count": 106,
   "metadata": {
    "scrolled": false
   },
   "outputs": [
    {
     "name": "stdout",
     "output_type": "stream",
     "text": [
      "fit_time: 0.8504701137542725\n",
      "score_time: 0.024993705749511718\n",
      "test_accuracy: 0.7459401360859808\n",
      "train_accuracy: 0.7965352070106441\n",
      "test_recall: 0.7895133911731421\n",
      "train_recall: 0.8359864202187854\n"
     ]
    }
   ],
   "source": [
    "average_scores(xgb_baseline_results)"
   ]
  },
  {
   "cell_type": "markdown",
   "metadata": {},
   "source": [
    "The XGBoost baseline model has similar accuracy and recall to the random forest tuned classifier."
   ]
  },
  {
   "cell_type": "markdown",
   "metadata": {},
   "source": [
    "#### Hyperparameter Tuning"
   ]
  },
  {
   "cell_type": "code",
   "execution_count": 19,
   "metadata": {},
   "outputs": [
    {
     "name": "stdout",
     "output_type": "stream",
     "text": [
      "Grid Search found the following optimal parameters: \n",
      "learning_rate: 0.1\n",
      "max_depth: 5\n",
      "min_child_weight: 1\n",
      "n_estimators: 100\n",
      "subsample: 0.7\n"
     ]
    }
   ],
   "source": [
    "#define parameter grid for search\n",
    "xgb_param_grid = {\n",
    "    'learning_rate': [0.1, 0.2],\n",
    "    'max_depth': [5, 6],\n",
    "    'min_child_weight': [1, 2],\n",
    "    'subsample': [0.5, 0.7],\n",
    "    'n_estimators': [100],\n",
    "}\n",
    "\n",
    "#insantiate and fit search object\n",
    "grid_xgb = GridSearchCV(xgb_baseline,\n",
    "                        xgb_param_grid,\n",
    "                        scoring=['accuracy', 'recall'],\n",
    "                        cv=3, n_jobs=1,\n",
    "                        refit='recall',\n",
    "                        return_train_score=True)\n",
    "\n",
    "grid_xgb.fit(X_train, y_train)\n",
    "\n",
    "#print best parameters\n",
    "best_parameters = grid_xgb.best_params_\n",
    "print('Grid Search found the following optimal parameters: ')\n",
    "for param_name in sorted(best_parameters.keys()):\n",
    "    print('%s: %r' % (param_name, best_parameters[param_name]))"
   ]
  },
  {
   "cell_type": "code",
   "execution_count": 107,
   "metadata": {},
   "outputs": [],
   "source": [
    "#instantiate tuned XGBoost Classifier\n",
    "xgb_tuned = XGBClassifier(learning_rate=0.1,\n",
    "                         max_depth=5,\n",
    "                         min_child_weight=1,\n",
    "                         n_estimators=100,\n",
    "                         subsample=0.7)\n",
    "\n",
    "#run cross-validation\n",
    "xgb_tuned_results  = cross_validate(xgb_tuned,\n",
    "                                    X_train,\n",
    "                                    y_train,\n",
    "                                    scoring=('accuracy', 'recall'),\n",
    "                                    return_train_score=True)"
   ]
  },
  {
   "cell_type": "code",
   "execution_count": 108,
   "metadata": {
    "scrolled": false
   },
   "outputs": [
    {
     "name": "stdout",
     "output_type": "stream",
     "text": [
      "fit_time: 1.0571440219879151\n",
      "score_time: 0.02993330955505371\n",
      "test_accuracy: 0.7514853308172783\n",
      "train_accuracy: 0.765140801717932\n",
      "test_recall: 0.7969822708411921\n",
      "train_recall: 0.8104866088268577\n"
     ]
    }
   ],
   "source": [
    "average_scores(xgb_tuned_results)"
   ]
  },
  {
   "cell_type": "markdown",
   "metadata": {},
   "source": [
    "The XGBoost tuned model has the highest accuracy and recall of any of the classification models."
   ]
  },
  {
   "cell_type": "markdown",
   "metadata": {},
   "source": [
    "### Feature Selection\n",
    "I run a recursive feature elimantion to see if running the xgboost model on a subset of features improves the accuracy or recall"
   ]
  },
  {
   "cell_type": "code",
   "execution_count": 109,
   "metadata": {
    "scrolled": true
   },
   "outputs": [],
   "source": [
    "#instatiate and fit RFECV object with xgb tuned model\n",
    "selector = RFECV(xgb_tuned,cv=5)\n",
    "selector = selector.fit(X_train, y_train)"
   ]
  },
  {
   "cell_type": "code",
   "execution_count": 116,
   "metadata": {
    "scrolled": true
   },
   "outputs": [
    {
     "name": "stdout",
     "output_type": "stream",
     "text": [
      "HighBP : True\n",
      "HighChol : True\n",
      "CholCheck : True\n",
      "BMI : True\n",
      "Smoker : True\n",
      "Stroke : True\n",
      "HeartDiseaseorAttack : True\n",
      "PhysActivity : True\n",
      "Fruits : True\n",
      "Veggies : True\n",
      "HvyAlcoholConsump : True\n",
      "AnyHealthcare : True\n",
      "NoDocbcCost : True\n",
      "GenHlth : True\n",
      "MentHlth : True\n",
      "PhysHlth : True\n",
      "DiffWalk : True\n",
      "Sex : True\n",
      "Age : True\n",
      "x0_1.0 : False\n",
      "x0_2.0 : True\n",
      "x0_3.0 : True\n",
      "x0_4.0 : True\n",
      "x0_5.0 : True\n",
      "x0_6.0 : True\n",
      "x1_1.0 : True\n",
      "x1_2.0 : True\n",
      "x1_3.0 : True\n",
      "x1_4.0 : True\n",
      "x1_5.0 : True\n",
      "x1_6.0 : True\n",
      "x1_7.0 : True\n",
      "x1_8.0 : True\n"
     ]
    }
   ],
   "source": [
    "#show which features were eliminated\n",
    "for i in range(len(X_train.columns)):\n",
    "    print(X_train.columns[i],':', selector.support_[i])"
   ]
  },
  {
   "cell_type": "code",
   "execution_count": 117,
   "metadata": {},
   "outputs": [],
   "source": [
    "#reduce x_train to selected features\n",
    "selected_cols = selector.get_support(indices=True)\n",
    "X_train_selected = X_train.iloc[:, selected_cols]"
   ]
  },
  {
   "cell_type": "code",
   "execution_count": 118,
   "metadata": {
    "scrolled": true
   },
   "outputs": [],
   "source": [
    "#instantiate selected XGBoost Classifier\n",
    "xgb_selected = XGBClassifier(learning_rate=0.1,\n",
    "                         max_depth=5,\n",
    "                         min_child_weight=1,\n",
    "                         n_estimators=100,\n",
    "                         subsample=0.7)\n",
    "\n",
    "#run cross-validation\n",
    "xgb_selected_results  = cross_validate(xgb_selected,\n",
    "                                       X_train_selected,\n",
    "                                       y_train,\n",
    "                                       scoring=('accuracy', 'recall'),\n",
    "                                       return_train_score=True)"
   ]
  },
  {
   "cell_type": "code",
   "execution_count": 119,
   "metadata": {
    "scrolled": true
   },
   "outputs": [
    {
     "name": "stdout",
     "output_type": "stream",
     "text": [
      "fit_time: 1.0066079139709472\n",
      "score_time: 0.030782365798950197\n",
      "test_accuracy: 0.7554084801163545\n",
      "train_accuracy: 0.76816329854997\n",
      "test_recall: 0.800897882587081\n",
      "train_recall: 0.8142989056320538\n"
     ]
    }
   ],
   "source": [
    "average_scores(xgb_selected_results)"
   ]
  },
  {
   "cell_type": "markdown",
   "metadata": {},
   "source": [
    "This XGBoost model with a subset of features has a small imporvemnt in accuracy and recall over the previous tuned XGBoost model."
   ]
  },
  {
   "cell_type": "markdown",
   "metadata": {},
   "source": [
    "## Final Model Evaluation\n",
    "The XGBoost tuned and selected model performed best in both accuracy and recall and thus the final model. Now I conduct a final evaluation using the test set data."
   ]
  },
  {
   "cell_type": "code",
   "execution_count": 120,
   "metadata": {
    "scrolled": true
   },
   "outputs": [
    {
     "name": "stdout",
     "output_type": "stream",
     "text": [
      "Test Accuracy:  0.7481468907372829\n",
      "Train Accuracy:  0.7656500499820819\n",
      "Test Recall:  0.7920108634151861\n",
      "Train Recall:  0.8128937342034781\n"
     ]
    }
   ],
   "source": [
    "X_final = X_train_selected\n",
    "y_final = y_train\n",
    "\n",
    "final_model = xgb_selected\n",
    "final_model.fit(X_final, y_final)\n",
    "\n",
    "X_test_selected = X_test.iloc[:, selected_cols]\n",
    "y_pred_test = final_model.predict(X_test_selected)\n",
    "y_pred_train = final_model.predict(X_train_selected)\n",
    "\n",
    "\n",
    "print(\"Test Accuracy: \", accuracy_score(y_test, y_pred_test))\n",
    "print(\"Train Accuracy: \", accuracy_score(y_train, y_pred_train))\n",
    "print(\"Test Recall: \", recall_score(y_test, y_pred_test))\n",
    "print(\"Train Recall: \", recall_score(y_train, y_pred_train))"
   ]
  },
  {
   "cell_type": "code",
   "execution_count": 121,
   "metadata": {
    "scrolled": false
   },
   "outputs": [],
   "source": [
    "# explain the model's feature effects using shap values\n",
    "explainer = shap.Explainer(final_model)\n",
    "shap_values = explainer(X_final)"
   ]
  },
  {
   "cell_type": "code",
   "execution_count": 122,
   "metadata": {
    "scrolled": false
   },
   "outputs": [
    {
     "data": {
      "image/png": "[encoded data removed]",
      "text/plain": [
       "<Figure size 576x360 with 1 Axes>"
      ]
     },
     "metadata": {},
     "output_type": "display_data"
    }
   ],
   "source": [
    "#plot the average shap values for each feature\n",
    "shap.plots.bar(shap_values, max_display=7, show=False)\n",
    "plt.title('Feature Impact on Model Output', fontsize=18);\n",
    "plt.ylabel('Features', fontsize=16)\n",
    "plt.show();"
   ]
  },
  {
   "cell_type": "markdown",
   "metadata": {},
   "source": [
    "The final model uses an xgboost algorithm and has an accuracy of 76%. It also has a recall of 80%, meaning that for someone who has diabetes there is an 80% chance the model will classify them as diabetic. The final model includes 27 total features. According to the final model, the three most important features realted to diabetes are poor general health, high blood pressure, and high BMI. General health has the greatest impact with a mean shap value of 0.59, followed by high blood pressure at 0.48, and BMI at 0.40."
   ]
  },
  {
   "cell_type": "markdown",
   "metadata": {},
   "source": [
    "### Further Evaluation\n",
    "I will now look at some of the most imortant features more closely."
   ]
  },
  {
   "cell_type": "markdown",
   "metadata": {},
   "source": [
    "#### General Health"
   ]
  },
  {
   "cell_type": "code",
   "execution_count": 323,
   "metadata": {
    "scrolled": true
   },
   "outputs": [],
   "source": [
    "#group the data by genhlth and diabetes_binary\n",
    "gen_hlth_grouped = df.groupby(['GenHlth', 'Diabetes_binary']).size().unstack()\n",
    "\n",
    "#reset index\n",
    "gen_hlth_grouped.reset_index(inplace=True)"
   ]
  },
  {
   "cell_type": "code",
   "execution_count": 324,
   "metadata": {
    "scrolled": true
   },
   "outputs": [
    {
     "data": {
      "text/html": [
       "<div>\n",
       "<style scoped>\n",
       "    .dataframe tbody tr th:only-of-type {\n",
       "        vertical-align: middle;\n",
       "    }\n",
       "\n",
       "    .dataframe tbody tr th {\n",
       "        vertical-align: top;\n",
       "    }\n",
       "\n",
       "    .dataframe thead th {\n",
       "        text-align: right;\n",
       "    }\n",
       "</style>\n",
       "<table border=\"1\" class=\"dataframe\">\n",
       "  <thead>\n",
       "    <tr style=\"text-align: right;\">\n",
       "      <th>Diabetes_binary</th>\n",
       "      <th>GenHlth</th>\n",
       "      <th>0.0</th>\n",
       "      <th>1.0</th>\n",
       "      <th>Percent_Diabetic</th>\n",
       "    </tr>\n",
       "  </thead>\n",
       "  <tbody>\n",
       "    <tr>\n",
       "      <th>4</th>\n",
       "      <td>5.0</td>\n",
       "      <td>1230</td>\n",
       "      <td>4578</td>\n",
       "      <td>78.822314</td>\n",
       "    </tr>\n",
       "    <tr>\n",
       "      <th>3</th>\n",
       "      <td>4.0</td>\n",
       "      <td>3513</td>\n",
       "      <td>9790</td>\n",
       "      <td>73.592423</td>\n",
       "    </tr>\n",
       "    <tr>\n",
       "      <th>2</th>\n",
       "      <td>3.0</td>\n",
       "      <td>9970</td>\n",
       "      <td>13457</td>\n",
       "      <td>57.442267</td>\n",
       "    </tr>\n",
       "    <tr>\n",
       "      <th>1</th>\n",
       "      <td>2.0</td>\n",
       "      <td>13491</td>\n",
       "      <td>6381</td>\n",
       "      <td>32.110507</td>\n",
       "    </tr>\n",
       "    <tr>\n",
       "      <th>0</th>\n",
       "      <td>1.0</td>\n",
       "      <td>7142</td>\n",
       "      <td>1140</td>\n",
       "      <td>13.764791</td>\n",
       "    </tr>\n",
       "  </tbody>\n",
       "</table>\n",
       "</div>"
      ],
      "text/plain": [
       "Diabetes_binary  GenHlth    0.0    1.0  Percent_Diabetic\n",
       "4                    5.0   1230   4578         78.822314\n",
       "3                    4.0   3513   9790         73.592423\n",
       "2                    3.0   9970  13457         57.442267\n",
       "1                    2.0  13491   6381         32.110507\n",
       "0                    1.0   7142   1140         13.764791"
      ]
     },
     "execution_count": 324,
     "metadata": {},
     "output_type": "execute_result"
    }
   ],
   "source": [
    "#add a \"percent diabetic\" feature to the df and sort by it\n",
    "gen_hlth_grouped['Percent_Diabetic'] = (gen_hlth_grouped[1] / \n",
    "                                        (gen_hlth_grouped[0] + \n",
    "                                         gen_hlth_grouped[1])*100)\n",
    "gen_hlth_grouped.sort_values('Percent_Diabetic', inplace=True, \n",
    "                             ascending=False)\n",
    "gen_hlth_grouped"
   ]
  },
  {
   "cell_type": "code",
   "execution_count": 310,
   "metadata": {
    "scrolled": false
   },
   "outputs": [
    {
     "data": {
      "image/png": "[encoded data removed]",
      "text/plain": [
       "<Figure size 720x432 with 1 Axes>"
      ]
     },
     "metadata": {
      "needs_background": "light"
     },
     "output_type": "display_data"
    }
   ],
   "source": [
    "#setup figure size\n",
    "fig, ax = plt.subplots(figsize=(10, 6))\n",
    "\n",
    "#bar plot gen health vs percent diabetic\n",
    "gen_hlth_grouped.plot.bar(ax=ax, x='GenHlth', y='Percent_Diabetic');\n",
    "ax.set_xticklabels(['Very Bad', 'Bad', 'Fair', 'Good', 'Excellent'], \n",
    "                   rotation=0, fontsize=13);\n",
    "ax.get_legend().remove()\n",
    "ax.set_title('General Health Relation to Diabetes', fontsize=18)\n",
    "ax.set_xlabel('General Health Status', fontsize=16)\n",
    "ax.set_ylabel('Percent Pre-Diabetic\\n or Diabetic ', fontsize=16)\n",
    "ax.yaxis.set_major_formatter(mtick.PercentFormatter())"
   ]
  },
  {
   "cell_type": "markdown",
   "metadata": {},
   "source": [
    "#### High Blood Pressure"
   ]
  },
  {
   "cell_type": "code",
   "execution_count": 311,
   "metadata": {},
   "outputs": [],
   "source": [
    "#group df by high bp and diabetes binary\n",
    "bp_grouped = df.groupby(['HighBP', 'Diabetes_binary']).size().unstack()\n",
    "bp_grouped.reset_index(inplace=True)"
   ]
  },
  {
   "cell_type": "code",
   "execution_count": 312,
   "metadata": {
    "scrolled": false
   },
   "outputs": [
    {
     "data": {
      "image/png": "[encoded data removed]",
      "text/plain": [
       "<Figure size 720x432 with 1 Axes>"
      ]
     },
     "metadata": {
      "needs_background": "light"
     },
     "output_type": "display_data"
    }
   ],
   "source": [
    "#setup figure for high BP vs # of people\n",
    "fig, ax = plt.subplots(figsize=(10, 6))\n",
    "\n",
    "#set-axis\n",
    "x = np.array([0, 1])\n",
    "#plot non-diabetic data\n",
    "ax.bar(x=x-0.15, height=bp_grouped[0], width=0.3,\n",
    "       label='Non-Diabetic');\n",
    "#plot per/diabetic data\n",
    "ax.bar(x=x+0.15, height=bp_grouped[1], width=0.3, \n",
    "       label='Pre-Diabetic or Diabetic');\n",
    "ax.set_xticks([0, 1]);\n",
    "ax.set_xticklabels(['No', 'Yes'], fontsize=13)\n",
    "ax.set_title('High Blood Pressure Relation to Diabetes', fontsize=18);\n",
    "ax.set_xlabel('High Blood Pressure?', fontsize=16);\n",
    "ax.set_ylabel('Number of People ', fontsize=16);\n",
    "ax.legend();"
   ]
  },
  {
   "cell_type": "markdown",
   "metadata": {},
   "source": [
    "#### BMI"
   ]
  },
  {
   "cell_type": "code",
   "execution_count": 313,
   "metadata": {},
   "outputs": [],
   "source": [
    "#group by diabtes and take mean\n",
    "bmi_grouped = df.groupby('Diabetes_binary').mean()\n",
    "bmi_grouped.reset_index(inplace=True)"
   ]
  },
  {
   "cell_type": "code",
   "execution_count": 314,
   "metadata": {
    "scrolled": false
   },
   "outputs": [
    {
     "data": {
      "image/png": "[encoded data removed]",
      "text/plain": [
       "<Figure size 720x432 with 1 Axes>"
      ]
     },
     "metadata": {
      "needs_background": "light"
     },
     "output_type": "display_data"
    }
   ],
   "source": [
    "#setup figure\n",
    "fig, ax = plt.subplots(figsize=(10, 6))\n",
    "\n",
    "#plot diabetic_bianry vs avergae BMI\n",
    "bmi_grouped.plot.bar(ax=ax, x='Diabetes_binary', y='BMI');\n",
    "ax.set_xticklabels(['Non-Diabetic', 'Pre-Diabetic/Diabetic'],\n",
    "                   rotation=0, fontsize=13);\n",
    "ax.get_legend().remove()\n",
    "ax.set_title('BMI Relation to Diabetes', fontsize=18);\n",
    "ax.set_xlabel('Diabetes Status', fontsize=16);\n",
    "ax.set_ylabel('Average BMI', fontsize=16);"
   ]
  },
  {
   "cell_type": "markdown",
   "metadata": {},
   "source": [
    "## Conclusions"
   ]
  },
  {
   "cell_type": "markdown",
   "metadata": {},
   "source": [
    "- **Provide the survey online for community members to complete:** For those whom the model predicts to be pre-diabetic or diabetic, a recommendation to see a doctor for further testing should be given.\n",
    "- **Educate the community of the link between general health and diabetes:** Some people may be under the assumption that diabetes is solely determined by genetics and are therefore not a risk if they do not have a family history of the disease. Increasing awareness that diabetes is linked with general health can help prevent the development of the disease.\n",
    "- **Provide specific dietary and lifestyle steps the community can take to reduce blood pressure and lose weight:** high blood pressure and high BMI are key risk factors in diabetes. Knowing how to lower these to metrics is essential to reducing their prevalence in the community.\n",
    "- **Invest in programs that increase access to healthier foods:** In addition to providing health advice, ensuring access to resources for the community to follow such advice is critical."
   ]
  },
  {
   "cell_type": "markdown",
   "metadata": {},
   "source": [
    "## Next Steps"
   ]
  },
  {
   "cell_type": "markdown",
   "metadata": {},
   "source": [
    "- **Search for additional survey data to be included in the model to improve accuracy and recall:** the current model incorrectly classifies 24% of survey responses\n",
    "- **Conduct analysis of how different diets impact diabetes:** the current features included in the model are primarily about general health conditions. Specific information about what types of foods are correlated with diabetes can be beneficial in preventing disease.\n",
    "- **Analyze the relationship between environmental factors and diabetes:** this model includes primarily health and lifestyle factors. Environmental factors such as housing or pollution levels may also be indicators of diabetes."
   ]
  }
 ],
 "metadata": {
  "kernelspec": {
   "display_name": "Python 3",
   "language": "python",
   "name": "python3"
  },
  "language_info": {
   "codemirror_mode": {
    "name": "ipython",
    "version": 3
   },
   "file_extension": ".py",
   "mimetype": "text/x-python",
   "name": "python",
   "nbconvert_exporter": "python",
   "pygments_lexer": "ipython3",
   "version": "3.8.5"
  },
  "toc": {
   "base_numbering": 1,
   "nav_menu": {},
   "number_sections": true,
   "sideBar": true,
   "skip_h1_title": false,
   "title_cell": "Table of Contents",
   "title_sidebar": "Contents",
   "toc_cell": false,
   "toc_position": {},
   "toc_section_display": true,
   "toc_window_display": false
  }
 },
 "nbformat": 4,
 "nbformat_minor": 4
}
